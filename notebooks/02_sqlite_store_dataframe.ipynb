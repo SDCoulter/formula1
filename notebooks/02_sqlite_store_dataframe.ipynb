{
 "cells": [
  {
   "cell_type": "markdown",
   "id": "744ec16a-6371-4b9e-b90c-44554630e81c",
   "metadata": {},
   "source": [
    "### Test SQLite Database Storing with DataFrames"
   ]
  },
  {
   "cell_type": "code",
   "execution_count": 1,
   "id": "90195f1c-adbd-4443-b0eb-6add815d8b1c",
   "metadata": {},
   "outputs": [],
   "source": [
    "from sqlalchemy import create_engine, ForeignKey\n",
    "from sqlalchemy import Column, Date, Integer, String\n",
    "from sqlalchemy.ext.declarative import declarative_base\n",
    "\n",
    "import pandas as pd"
   ]
  },
  {
   "cell_type": "code",
   "execution_count": 2,
   "id": "6b4c93cd-cd07-4ec3-a022-364a2bae93c5",
   "metadata": {},
   "outputs": [],
   "source": [
    "# Create an engine to create a SQLite database connection.\n",
    "engine = create_engine('sqlite:///C:\\\\Users\\\\shaun\\\\OneDrive\\\\Documents\\\\code\\\\formula1\\\\notebooks\\\\hide_testing\\\\test.db', echo=True)"
   ]
  },
  {
   "cell_type": "code",
   "execution_count": 3,
   "id": "cf610615-8064-423b-bab4-d19bff00aba4",
   "metadata": {},
   "outputs": [],
   "source": [
    "# Delare the base.\n",
    "Base = declarative_base()"
   ]
  },
  {
   "cell_type": "code",
   "execution_count": 4,
   "id": "ce3934a8-251d-4d0b-b870-b4717f2c49ed",
   "metadata": {},
   "outputs": [],
   "source": [
    "# Inherit from declaration, create con_standings table.\n",
    "class ConstructorStandings(Base):\n",
    "    # Table name.\n",
    "    __tablename__ = \"con_standings\"\n",
    "    \n",
    "    # Table columns.\n",
    "    uid = Column(Integer, primary_key=True)\n",
    "    position = Column(Integer)\n",
    "    constructor_name = Column(String)\n",
    "    points = Column(Integer)\n",
    "    wins = Column(Integer)\n",
    "    constructor_url = Column(String)\n",
    "    constructor_nationality = Column(String)\n",
    "    season_year = Column(Integer)\n",
    "    round_number = Column(Integer)\n",
    "    \n",
    "    # Initialize function.\n",
    "    def __init__(self, name):\n",
    "        self.name = name"
   ]
  },
  {
   "cell_type": "code",
   "execution_count": 5,
   "id": "f37e2b9e-3ad1-4619-b2b6-52b062e3736d",
   "metadata": {},
   "outputs": [
    {
     "name": "stdout",
     "output_type": "stream",
     "text": [
      "2021-11-20 12:27:47,667 INFO sqlalchemy.engine.Engine BEGIN (implicit)\n",
      "2021-11-20 12:27:47,669 INFO sqlalchemy.engine.Engine PRAGMA main.table_info(\"con_standings\")\n",
      "2021-11-20 12:27:47,669 INFO sqlalchemy.engine.Engine [raw sql] ()\n",
      "2021-11-20 12:27:47,670 INFO sqlalchemy.engine.Engine COMMIT\n"
     ]
    }
   ],
   "source": [
    "# Create.\n",
    "Base.metadata.create_all(engine)"
   ]
  },
  {
   "cell_type": "code",
   "execution_count": 6,
   "id": "f051c2c0-1ea0-4b86-ab2b-d0034ab673a0",
   "metadata": {},
   "outputs": [
    {
     "name": "stdout",
     "output_type": "stream",
     "text": [
      "2021-11-20 12:27:53,820 INFO sqlalchemy.engine.Engine SELECT * FROM con_standings\n",
      "2021-11-20 12:27:53,821 INFO sqlalchemy.engine.Engine [raw sql] ()\n"
     ]
    },
    {
     "data": {
      "text/plain": [
       "<sqlalchemy.engine.cursor.LegacyCursorResult at 0x29ebbe1e5e0>"
      ]
     },
     "execution_count": 6,
     "metadata": {},
     "output_type": "execute_result"
    }
   ],
   "source": [
    "# Test connection to database.\n",
    "engine.execute(\"SELECT * FROM con_standings\")"
   ]
  },
  {
   "cell_type": "markdown",
   "id": "e788c0e9-d962-4171-a27e-7435a8590a35",
   "metadata": {},
   "source": [
    "Gather data to test interaction with SQLite database."
   ]
  },
  {
   "cell_type": "code",
   "execution_count": 13,
   "id": "a2db7cc7-91c3-4535-9c25-89aedf517a23",
   "metadata": {},
   "outputs": [
    {
     "data": {
      "text/html": [
       "<div>\n",
       "<style scoped>\n",
       "    .dataframe tbody tr th:only-of-type {\n",
       "        vertical-align: middle;\n",
       "    }\n",
       "\n",
       "    .dataframe tbody tr th {\n",
       "        vertical-align: top;\n",
       "    }\n",
       "\n",
       "    .dataframe thead th {\n",
       "        text-align: right;\n",
       "    }\n",
       "</style>\n",
       "<table border=\"1\" class=\"dataframe\">\n",
       "  <thead>\n",
       "    <tr style=\"text-align: right;\">\n",
       "      <th></th>\n",
       "      <th>position</th>\n",
       "      <th>constructor_name</th>\n",
       "      <th>points</th>\n",
       "      <th>wins</th>\n",
       "      <th>constructor_url</th>\n",
       "      <th>constructor_nationality</th>\n",
       "      <th>season_year</th>\n",
       "      <th>round_number</th>\n",
       "    </tr>\n",
       "    <tr>\n",
       "      <th>uid</th>\n",
       "      <th></th>\n",
       "      <th></th>\n",
       "      <th></th>\n",
       "      <th></th>\n",
       "      <th></th>\n",
       "      <th></th>\n",
       "      <th></th>\n",
       "      <th></th>\n",
       "    </tr>\n",
       "  </thead>\n",
       "  <tbody>\n",
       "    <tr>\n",
       "      <th>20211901</th>\n",
       "      <td>1</td>\n",
       "      <td>Mercedes</td>\n",
       "      <td>521.5</td>\n",
       "      <td>7</td>\n",
       "      <td>http://en.wikipedia.org/wiki/Mercedes-Benz_in_...</td>\n",
       "      <td>German</td>\n",
       "      <td>2021</td>\n",
       "      <td>19</td>\n",
       "    </tr>\n",
       "    <tr>\n",
       "      <th>20211902</th>\n",
       "      <td>2</td>\n",
       "      <td>Red Bull</td>\n",
       "      <td>510.5</td>\n",
       "      <td>10</td>\n",
       "      <td>http://en.wikipedia.org/wiki/Red_Bull_Racing</td>\n",
       "      <td>Austrian</td>\n",
       "      <td>2021</td>\n",
       "      <td>19</td>\n",
       "    </tr>\n",
       "    <tr>\n",
       "      <th>20211903</th>\n",
       "      <td>3</td>\n",
       "      <td>Ferrari</td>\n",
       "      <td>287.5</td>\n",
       "      <td>0</td>\n",
       "      <td>http://en.wikipedia.org/wiki/Scuderia_Ferrari</td>\n",
       "      <td>Italian</td>\n",
       "      <td>2021</td>\n",
       "      <td>19</td>\n",
       "    </tr>\n",
       "    <tr>\n",
       "      <th>20211904</th>\n",
       "      <td>4</td>\n",
       "      <td>McLaren</td>\n",
       "      <td>256.0</td>\n",
       "      <td>1</td>\n",
       "      <td>http://en.wikipedia.org/wiki/McLaren</td>\n",
       "      <td>British</td>\n",
       "      <td>2021</td>\n",
       "      <td>19</td>\n",
       "    </tr>\n",
       "    <tr>\n",
       "      <th>20211905</th>\n",
       "      <td>5</td>\n",
       "      <td>Alpine F1 Team</td>\n",
       "      <td>112.0</td>\n",
       "      <td>1</td>\n",
       "      <td>http://en.wikipedia.org/wiki/Alpine_F1_Team</td>\n",
       "      <td>French</td>\n",
       "      <td>2021</td>\n",
       "      <td>19</td>\n",
       "    </tr>\n",
       "  </tbody>\n",
       "</table>\n",
       "</div>"
      ],
      "text/plain": [
       "          position constructor_name  points  wins  \\\n",
       "uid                                                 \n",
       "20211901         1         Mercedes   521.5     7   \n",
       "20211902         2         Red Bull   510.5    10   \n",
       "20211903         3          Ferrari   287.5     0   \n",
       "20211904         4          McLaren   256.0     1   \n",
       "20211905         5   Alpine F1 Team   112.0     1   \n",
       "\n",
       "                                            constructor_url  \\\n",
       "uid                                                           \n",
       "20211901  http://en.wikipedia.org/wiki/Mercedes-Benz_in_...   \n",
       "20211902       http://en.wikipedia.org/wiki/Red_Bull_Racing   \n",
       "20211903      http://en.wikipedia.org/wiki/Scuderia_Ferrari   \n",
       "20211904               http://en.wikipedia.org/wiki/McLaren   \n",
       "20211905        http://en.wikipedia.org/wiki/Alpine_F1_Team   \n",
       "\n",
       "         constructor_nationality  season_year  round_number  \n",
       "uid                                                          \n",
       "20211901                  German         2021            19  \n",
       "20211902                Austrian         2021            19  \n",
       "20211903                 Italian         2021            19  \n",
       "20211904                 British         2021            19  \n",
       "20211905                  French         2021            19  "
      ]
     },
     "execution_count": 13,
     "metadata": {},
     "output_type": "execute_result"
    }
   ],
   "source": [
    "df = pd.read_csv('../api_data/transformed_data/2021_r19_Constructor_Standings_SQLite_Names.csv', index_col='uid')\n",
    "df.head()"
   ]
  },
  {
   "cell_type": "code",
   "execution_count": 14,
   "id": "830658fc-8378-4c49-a4e0-00a581123e5e",
   "metadata": {},
   "outputs": [
    {
     "name": "stdout",
     "output_type": "stream",
     "text": [
      "2021-11-20 12:30:16,165 INFO sqlalchemy.engine.Engine PRAGMA main.table_info(\"con_standings\")\n",
      "2021-11-20 12:30:16,165 INFO sqlalchemy.engine.Engine [raw sql] ()\n",
      "2021-11-20 12:30:16,168 INFO sqlalchemy.engine.Engine BEGIN (implicit)\n",
      "2021-11-20 12:30:16,170 INFO sqlalchemy.engine.Engine INSERT INTO con_standings (uid, position, constructor_name, points, wins, constructor_url, constructor_nationality, season_year, round_number) VALUES (?, ?, ?, ?, ?, ?, ?, ?, ?)\n",
      "2021-11-20 12:30:16,170 INFO sqlalchemy.engine.Engine [generated in 0.00053s] ((20211901, 1, 'Mercedes', 521.5, 7, 'http://en.wikipedia.org/wiki/Mercedes-Benz_in_Formula_One', 'German', 2021, 19), (20211902, 2, 'Red Bull', 510.5, 10, 'http://en.wikipedia.org/wiki/Red_Bull_Racing', 'Austrian', 2021, 19), (20211903, 3, 'Ferrari', 287.5, 0, 'http://en.wikipedia.org/wiki/Scuderia_Ferrari', 'Italian', 2021, 19), (20211904, 4, 'McLaren', 256.0, 1, 'http://en.wikipedia.org/wiki/McLaren', 'British', 2021, 19), (20211905, 5, 'Alpine F1 Team', 112.0, 1, 'http://en.wikipedia.org/wiki/Alpine_F1_Team', 'French', 2021, 19), (20211906, 6, 'AlphaTauri', 112.0, 0, 'http://en.wikipedia.org/wiki/Scuderia_AlphaTauri', 'Italian', 2021, 19), (20211907, 7, 'Aston Martin', 68.0, 0, 'http://en.wikipedia.org/wiki/Aston_Martin_in_Formula_One', 'British', 2021, 19), (20211908, 8, 'Williams', 23.0, 0, 'http://en.wikipedia.org/wiki/Williams_Grand_Prix_Engineering', 'British', 2021, 19), (20211909, 9, 'Alfa Romeo', 11.0, 0, 'http://en.wikipedia.org/wiki/Alfa_Romeo_in_Formula_One', 'Swiss', 2021, 19), (20211910, 10, 'Haas F1 Team', 0.0, 0, 'http://en.wikipedia.org/wiki/Haas_F1_Team', 'American', 2021, 19))\n",
      "2021-11-20 12:30:16,171 INFO sqlalchemy.engine.Engine COMMIT\n"
     ]
    }
   ],
   "source": [
    "# Convert data to SQL to store.\n",
    "df.to_sql(name='con_standings', con=engine, if_exists='append')"
   ]
  }
 ],
 "metadata": {
  "kernelspec": {
   "display_name": "f1_denv",
   "language": "python",
   "name": "f1_denv"
  },
  "language_info": {
   "codemirror_mode": {
    "name": "ipython",
    "version": 3
   },
   "file_extension": ".py",
   "mimetype": "text/x-python",
   "name": "python",
   "nbconvert_exporter": "python",
   "pygments_lexer": "ipython3",
   "version": "3.8.12"
  }
 },
 "nbformat": 4,
 "nbformat_minor": 5
}
