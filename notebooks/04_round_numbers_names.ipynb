{
 "cells": [
  {
   "cell_type": "markdown",
   "id": "10454e5b-031d-4723-b95c-f03383b5c584",
   "metadata": {},
   "source": [
    "### Get the Round Counts\n",
    "\n",
    "Create season year and round quantity values to populate drop down menu on con_standings page."
   ]
  },
  {
   "cell_type": "code",
   "execution_count": 1,
   "id": "f318927c-53b0-4c75-8c09-8f3fe73687a9",
   "metadata": {},
   "outputs": [],
   "source": [
    "import pandas as pd\n",
    "import json"
   ]
  },
  {
   "cell_type": "code",
   "execution_count": 2,
   "id": "49365180-e6b5-4c33-a60c-33d4523c81ee",
   "metadata": {},
   "outputs": [
    {
     "data": {
      "text/html": [
       "<div>\n",
       "<style scoped>\n",
       "    .dataframe tbody tr th:only-of-type {\n",
       "        vertical-align: middle;\n",
       "    }\n",
       "\n",
       "    .dataframe tbody tr th {\n",
       "        vertical-align: top;\n",
       "    }\n",
       "\n",
       "    .dataframe thead th {\n",
       "        text-align: right;\n",
       "    }\n",
       "</style>\n",
       "<table border=\"1\" class=\"dataframe\">\n",
       "  <thead>\n",
       "    <tr style=\"text-align: right;\">\n",
       "      <th></th>\n",
       "      <th>year</th>\n",
       "      <th>round</th>\n",
       "      <th>circuitId</th>\n",
       "      <th>name</th>\n",
       "      <th>date</th>\n",
       "      <th>time</th>\n",
       "      <th>url</th>\n",
       "    </tr>\n",
       "    <tr>\n",
       "      <th>raceId</th>\n",
       "      <th></th>\n",
       "      <th></th>\n",
       "      <th></th>\n",
       "      <th></th>\n",
       "      <th></th>\n",
       "      <th></th>\n",
       "      <th></th>\n",
       "    </tr>\n",
       "  </thead>\n",
       "  <tbody>\n",
       "    <tr>\n",
       "      <th>1</th>\n",
       "      <td>2009</td>\n",
       "      <td>1</td>\n",
       "      <td>1</td>\n",
       "      <td>Australian Grand Prix</td>\n",
       "      <td>2009-03-29</td>\n",
       "      <td>06:00:00</td>\n",
       "      <td>http://en.wikipedia.org/wiki/2009_Australian_G...</td>\n",
       "    </tr>\n",
       "    <tr>\n",
       "      <th>2</th>\n",
       "      <td>2009</td>\n",
       "      <td>2</td>\n",
       "      <td>2</td>\n",
       "      <td>Malaysian Grand Prix</td>\n",
       "      <td>2009-04-05</td>\n",
       "      <td>09:00:00</td>\n",
       "      <td>http://en.wikipedia.org/wiki/2009_Malaysian_Gr...</td>\n",
       "    </tr>\n",
       "    <tr>\n",
       "      <th>3</th>\n",
       "      <td>2009</td>\n",
       "      <td>3</td>\n",
       "      <td>17</td>\n",
       "      <td>Chinese Grand Prix</td>\n",
       "      <td>2009-04-19</td>\n",
       "      <td>07:00:00</td>\n",
       "      <td>http://en.wikipedia.org/wiki/2009_Chinese_Gran...</td>\n",
       "    </tr>\n",
       "    <tr>\n",
       "      <th>4</th>\n",
       "      <td>2009</td>\n",
       "      <td>4</td>\n",
       "      <td>3</td>\n",
       "      <td>Bahrain Grand Prix</td>\n",
       "      <td>2009-04-26</td>\n",
       "      <td>12:00:00</td>\n",
       "      <td>http://en.wikipedia.org/wiki/2009_Bahrain_Gran...</td>\n",
       "    </tr>\n",
       "    <tr>\n",
       "      <th>5</th>\n",
       "      <td>2009</td>\n",
       "      <td>5</td>\n",
       "      <td>4</td>\n",
       "      <td>Spanish Grand Prix</td>\n",
       "      <td>2009-05-10</td>\n",
       "      <td>12:00:00</td>\n",
       "      <td>http://en.wikipedia.org/wiki/2009_Spanish_Gran...</td>\n",
       "    </tr>\n",
       "  </tbody>\n",
       "</table>\n",
       "</div>"
      ],
      "text/plain": [
       "        year  round  circuitId                   name        date      time  \\\n",
       "raceId                                                                        \n",
       "1       2009      1          1  Australian Grand Prix  2009-03-29  06:00:00   \n",
       "2       2009      2          2   Malaysian Grand Prix  2009-04-05  09:00:00   \n",
       "3       2009      3         17     Chinese Grand Prix  2009-04-19  07:00:00   \n",
       "4       2009      4          3     Bahrain Grand Prix  2009-04-26  12:00:00   \n",
       "5       2009      5          4     Spanish Grand Prix  2009-05-10  12:00:00   \n",
       "\n",
       "                                                      url  \n",
       "raceId                                                     \n",
       "1       http://en.wikipedia.org/wiki/2009_Australian_G...  \n",
       "2       http://en.wikipedia.org/wiki/2009_Malaysian_Gr...  \n",
       "3       http://en.wikipedia.org/wiki/2009_Chinese_Gran...  \n",
       "4       http://en.wikipedia.org/wiki/2009_Bahrain_Gran...  \n",
       "5       http://en.wikipedia.org/wiki/2009_Spanish_Gran...  "
      ]
     },
     "execution_count": 2,
     "metadata": {},
     "output_type": "execute_result"
    }
   ],
   "source": [
    "df = pd.read_csv('../api_data/races.csv', index_col='raceId')\n",
    "df.head()"
   ]
  },
  {
   "cell_type": "code",
   "execution_count": 3,
   "id": "205f3a26-501f-4d39-aec2-fbe2481a4803",
   "metadata": {},
   "outputs": [
    {
     "data": {
      "text/html": [
       "<div>\n",
       "<style scoped>\n",
       "    .dataframe tbody tr th:only-of-type {\n",
       "        vertical-align: middle;\n",
       "    }\n",
       "\n",
       "    .dataframe tbody tr th {\n",
       "        vertical-align: top;\n",
       "    }\n",
       "\n",
       "    .dataframe thead th {\n",
       "        text-align: right;\n",
       "    }\n",
       "</style>\n",
       "<table border=\"1\" class=\"dataframe\">\n",
       "  <thead>\n",
       "    <tr style=\"text-align: right;\">\n",
       "      <th></th>\n",
       "      <th>round</th>\n",
       "      <th>name</th>\n",
       "    </tr>\n",
       "    <tr>\n",
       "      <th>year</th>\n",
       "      <th></th>\n",
       "      <th></th>\n",
       "    </tr>\n",
       "  </thead>\n",
       "  <tbody>\n",
       "    <tr>\n",
       "      <th>2009</th>\n",
       "      <td>1</td>\n",
       "      <td>Australian Grand Prix</td>\n",
       "    </tr>\n",
       "    <tr>\n",
       "      <th>2009</th>\n",
       "      <td>2</td>\n",
       "      <td>Malaysian Grand Prix</td>\n",
       "    </tr>\n",
       "    <tr>\n",
       "      <th>2009</th>\n",
       "      <td>3</td>\n",
       "      <td>Chinese Grand Prix</td>\n",
       "    </tr>\n",
       "    <tr>\n",
       "      <th>2009</th>\n",
       "      <td>4</td>\n",
       "      <td>Bahrain Grand Prix</td>\n",
       "    </tr>\n",
       "    <tr>\n",
       "      <th>2009</th>\n",
       "      <td>5</td>\n",
       "      <td>Spanish Grand Prix</td>\n",
       "    </tr>\n",
       "  </tbody>\n",
       "</table>\n",
       "</div>"
      ],
      "text/plain": [
       "      round                   name\n",
       "year                              \n",
       "2009      1  Australian Grand Prix\n",
       "2009      2   Malaysian Grand Prix\n",
       "2009      3     Chinese Grand Prix\n",
       "2009      4     Bahrain Grand Prix\n",
       "2009      5     Spanish Grand Prix"
      ]
     },
     "execution_count": 3,
     "metadata": {},
     "output_type": "execute_result"
    }
   ],
   "source": [
    "df = df.set_index(['year'])[['round', 'name']]\n",
    "df.head()"
   ]
  },
  {
   "cell_type": "code",
   "execution_count": 4,
   "id": "983f365b-eeb2-450a-9888-9b7f859ff16d",
   "metadata": {},
   "outputs": [],
   "source": [
    "# Get list of years.\n",
    "years = df.index.unique().to_list()"
   ]
  },
  {
   "cell_type": "code",
   "execution_count": 5,
   "id": "0fed05ee-03aa-4332-a663-a6e12ad9be9b",
   "metadata": {},
   "outputs": [],
   "source": [
    "# Round Names.\n",
    "r_names = {}"
   ]
  },
  {
   "cell_type": "code",
   "execution_count": 6,
   "id": "3c982cf1-3526-43e4-9d85-d1835a72d6ec",
   "metadata": {},
   "outputs": [],
   "source": [
    "# Loop through each year to create master json for round names.\n",
    "for year in years:\n",
    "    r_names[year] = df[df.index == year].set_index('round').to_dict(orient='index')"
   ]
  },
  {
   "cell_type": "code",
   "execution_count": 7,
   "id": "3b02d71d-8070-43ac-9744-6bcc0a02c8ae",
   "metadata": {},
   "outputs": [
    {
     "data": {
      "text/plain": [
       "{1: {'name': 'Australian Grand Prix'},\n",
       " 2: {'name': 'Malaysian Grand Prix'},\n",
       " 3: {'name': 'Chinese Grand Prix'},\n",
       " 4: {'name': 'Bahrain Grand Prix'},\n",
       " 5: {'name': 'Spanish Grand Prix'},\n",
       " 6: {'name': 'Monaco Grand Prix'},\n",
       " 7: {'name': 'Turkish Grand Prix'},\n",
       " 8: {'name': 'British Grand Prix'},\n",
       " 9: {'name': 'German Grand Prix'},\n",
       " 10: {'name': 'Hungarian Grand Prix'},\n",
       " 11: {'name': 'European Grand Prix'},\n",
       " 12: {'name': 'Belgian Grand Prix'},\n",
       " 13: {'name': 'Italian Grand Prix'},\n",
       " 14: {'name': 'Singapore Grand Prix'},\n",
       " 15: {'name': 'Japanese Grand Prix'},\n",
       " 16: {'name': 'Brazilian Grand Prix'},\n",
       " 17: {'name': 'Abu Dhabi Grand Prix'}}"
      ]
     },
     "execution_count": 7,
     "metadata": {},
     "output_type": "execute_result"
    }
   ],
   "source": [
    "df[df.index == 2009].set_index('round').to_dict(orient='index')"
   ]
  },
  {
   "cell_type": "code",
   "execution_count": 8,
   "id": "c36207f1-abf8-4a62-a87d-2b45038ea5be",
   "metadata": {},
   "outputs": [],
   "source": [
    "# Dump the JSON for use in app.\n",
    "with open('hide_testing/all_names.json', 'w') as f:\n",
    "    json.dump(r_names, f, indent=2)"
   ]
  }
 ],
 "metadata": {
  "kernelspec": {
   "display_name": "f1_denv",
   "language": "python",
   "name": "f1_denv"
  },
  "language_info": {
   "codemirror_mode": {
    "name": "ipython",
    "version": 3
   },
   "file_extension": ".py",
   "mimetype": "text/x-python",
   "name": "python",
   "nbconvert_exporter": "python",
   "pygments_lexer": "ipython3",
   "version": "3.8.12"
  }
 },
 "nbformat": 4,
 "nbformat_minor": 5
}
