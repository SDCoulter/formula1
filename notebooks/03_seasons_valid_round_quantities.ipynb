{
 "cells": [
  {
   "cell_type": "markdown",
   "id": "10454e5b-031d-4723-b95c-f03383b5c584",
   "metadata": {},
   "source": [
    "### Get the Round Counts\n",
    "\n",
    "Create season year and round quantity values to populate drop down menu on con_standings page."
   ]
  },
  {
   "cell_type": "code",
   "execution_count": 28,
   "id": "f318927c-53b0-4c75-8c09-8f3fe73687a9",
   "metadata": {},
   "outputs": [],
   "source": [
    "import pandas as pd\n",
    "import json"
   ]
  },
  {
   "cell_type": "code",
   "execution_count": 2,
   "id": "49365180-e6b5-4c33-a60c-33d4523c81ee",
   "metadata": {},
   "outputs": [
    {
     "data": {
      "text/html": [
       "<div>\n",
       "<style scoped>\n",
       "    .dataframe tbody tr th:only-of-type {\n",
       "        vertical-align: middle;\n",
       "    }\n",
       "\n",
       "    .dataframe tbody tr th {\n",
       "        vertical-align: top;\n",
       "    }\n",
       "\n",
       "    .dataframe thead th {\n",
       "        text-align: right;\n",
       "    }\n",
       "</style>\n",
       "<table border=\"1\" class=\"dataframe\">\n",
       "  <thead>\n",
       "    <tr style=\"text-align: right;\">\n",
       "      <th></th>\n",
       "      <th>year</th>\n",
       "      <th>round</th>\n",
       "      <th>circuitId</th>\n",
       "      <th>name</th>\n",
       "      <th>date</th>\n",
       "      <th>time</th>\n",
       "      <th>url</th>\n",
       "    </tr>\n",
       "    <tr>\n",
       "      <th>raceId</th>\n",
       "      <th></th>\n",
       "      <th></th>\n",
       "      <th></th>\n",
       "      <th></th>\n",
       "      <th></th>\n",
       "      <th></th>\n",
       "      <th></th>\n",
       "    </tr>\n",
       "  </thead>\n",
       "  <tbody>\n",
       "    <tr>\n",
       "      <th>1</th>\n",
       "      <td>2009</td>\n",
       "      <td>1</td>\n",
       "      <td>1</td>\n",
       "      <td>Australian Grand Prix</td>\n",
       "      <td>2009-03-29</td>\n",
       "      <td>06:00:00</td>\n",
       "      <td>http://en.wikipedia.org/wiki/2009_Australian_G...</td>\n",
       "    </tr>\n",
       "    <tr>\n",
       "      <th>2</th>\n",
       "      <td>2009</td>\n",
       "      <td>2</td>\n",
       "      <td>2</td>\n",
       "      <td>Malaysian Grand Prix</td>\n",
       "      <td>2009-04-05</td>\n",
       "      <td>09:00:00</td>\n",
       "      <td>http://en.wikipedia.org/wiki/2009_Malaysian_Gr...</td>\n",
       "    </tr>\n",
       "    <tr>\n",
       "      <th>3</th>\n",
       "      <td>2009</td>\n",
       "      <td>3</td>\n",
       "      <td>17</td>\n",
       "      <td>Chinese Grand Prix</td>\n",
       "      <td>2009-04-19</td>\n",
       "      <td>07:00:00</td>\n",
       "      <td>http://en.wikipedia.org/wiki/2009_Chinese_Gran...</td>\n",
       "    </tr>\n",
       "    <tr>\n",
       "      <th>4</th>\n",
       "      <td>2009</td>\n",
       "      <td>4</td>\n",
       "      <td>3</td>\n",
       "      <td>Bahrain Grand Prix</td>\n",
       "      <td>2009-04-26</td>\n",
       "      <td>12:00:00</td>\n",
       "      <td>http://en.wikipedia.org/wiki/2009_Bahrain_Gran...</td>\n",
       "    </tr>\n",
       "    <tr>\n",
       "      <th>5</th>\n",
       "      <td>2009</td>\n",
       "      <td>5</td>\n",
       "      <td>4</td>\n",
       "      <td>Spanish Grand Prix</td>\n",
       "      <td>2009-05-10</td>\n",
       "      <td>12:00:00</td>\n",
       "      <td>http://en.wikipedia.org/wiki/2009_Spanish_Gran...</td>\n",
       "    </tr>\n",
       "  </tbody>\n",
       "</table>\n",
       "</div>"
      ],
      "text/plain": [
       "        year  round  circuitId                   name        date      time  \\\n",
       "raceId                                                                        \n",
       "1       2009      1          1  Australian Grand Prix  2009-03-29  06:00:00   \n",
       "2       2009      2          2   Malaysian Grand Prix  2009-04-05  09:00:00   \n",
       "3       2009      3         17     Chinese Grand Prix  2009-04-19  07:00:00   \n",
       "4       2009      4          3     Bahrain Grand Prix  2009-04-26  12:00:00   \n",
       "5       2009      5          4     Spanish Grand Prix  2009-05-10  12:00:00   \n",
       "\n",
       "                                                      url  \n",
       "raceId                                                     \n",
       "1       http://en.wikipedia.org/wiki/2009_Australian_G...  \n",
       "2       http://en.wikipedia.org/wiki/2009_Malaysian_Gr...  \n",
       "3       http://en.wikipedia.org/wiki/2009_Chinese_Gran...  \n",
       "4       http://en.wikipedia.org/wiki/2009_Bahrain_Gran...  \n",
       "5       http://en.wikipedia.org/wiki/2009_Spanish_Gran...  "
      ]
     },
     "execution_count": 2,
     "metadata": {},
     "output_type": "execute_result"
    }
   ],
   "source": [
    "df = pd.read_csv('../api_data/races.csv', index_col='raceId')\n",
    "df.head()"
   ]
  },
  {
   "cell_type": "code",
   "execution_count": 53,
   "id": "59acb75f-daf9-49bb-b801-1d334cb8198b",
   "metadata": {},
   "outputs": [
    {
     "data": {
      "text/html": [
       "<div>\n",
       "<style scoped>\n",
       "    .dataframe tbody tr th:only-of-type {\n",
       "        vertical-align: middle;\n",
       "    }\n",
       "\n",
       "    .dataframe tbody tr th {\n",
       "        vertical-align: top;\n",
       "    }\n",
       "\n",
       "    .dataframe thead th {\n",
       "        text-align: right;\n",
       "    }\n",
       "</style>\n",
       "<table border=\"1\" class=\"dataframe\">\n",
       "  <thead>\n",
       "    <tr style=\"text-align: right;\">\n",
       "      <th></th>\n",
       "      <th>round_quantity</th>\n",
       "    </tr>\n",
       "    <tr>\n",
       "      <th>season_year</th>\n",
       "      <th></th>\n",
       "    </tr>\n",
       "  </thead>\n",
       "  <tbody>\n",
       "    <tr>\n",
       "      <th>2021</th>\n",
       "      <td>22</td>\n",
       "    </tr>\n",
       "    <tr>\n",
       "      <th>2020</th>\n",
       "      <td>17</td>\n",
       "    </tr>\n",
       "    <tr>\n",
       "      <th>2019</th>\n",
       "      <td>21</td>\n",
       "    </tr>\n",
       "    <tr>\n",
       "      <th>2018</th>\n",
       "      <td>21</td>\n",
       "    </tr>\n",
       "    <tr>\n",
       "      <th>2017</th>\n",
       "      <td>20</td>\n",
       "    </tr>\n",
       "  </tbody>\n",
       "</table>\n",
       "</div>"
      ],
      "text/plain": [
       "             round_quantity\n",
       "season_year                \n",
       "2021                     22\n",
       "2020                     17\n",
       "2019                     21\n",
       "2018                     21\n",
       "2017                     20"
      ]
     },
     "execution_count": 53,
     "metadata": {},
     "output_type": "execute_result"
    }
   ],
   "source": [
    "# Group by year column (number of rounds).\n",
    "year_df = df.groupby('year').count()[['round']]\n",
    "year_df.index.name = 'season_year'\n",
    "year_df.columns = ['round_quantity']\n",
    "year_df = year_df.sort_index(ascending=False)\n",
    "year_df.head()"
   ]
  },
  {
   "cell_type": "code",
   "execution_count": 54,
   "id": "3d5fb900-55aa-4217-abe4-3709214ec27b",
   "metadata": {},
   "outputs": [],
   "source": [
    "year_df.to_json('../api_data/test.json')"
   ]
  },
  {
   "cell_type": "code",
   "execution_count": 34,
   "id": "044b8dad-1855-4639-a25f-fa1dba87e27e",
   "metadata": {},
   "outputs": [],
   "source": [
    "mm_json = []\n",
    "# Loop through and store values.\n",
    "for year in year_df:\n",
    "    mm_json.append({'season_year': year, 'round_quantity': int(year_df[year].values[0])})"
   ]
  },
  {
   "cell_type": "code",
   "execution_count": 35,
   "id": "4cb0b950-0992-4580-9222-ed7bdf885626",
   "metadata": {},
   "outputs": [
    {
     "data": {
      "text/plain": [
       "[{'season_year': 1950, 'round_quantity': 7},\n",
       " {'season_year': 1951, 'round_quantity': 8},\n",
       " {'season_year': 1952, 'round_quantity': 8},\n",
       " {'season_year': 1953, 'round_quantity': 9},\n",
       " {'season_year': 1954, 'round_quantity': 9}]"
      ]
     },
     "execution_count": 35,
     "metadata": {},
     "output_type": "execute_result"
    }
   ],
   "source": [
    "mm_json[:5]"
   ]
  },
  {
   "cell_type": "code",
   "execution_count": 37,
   "id": "4da0aa30-e430-4840-a71b-be673f89c337",
   "metadata": {},
   "outputs": [],
   "source": [
    "# Save file as JSON.\n",
    "with open('../formula1_data/init_data/round_quantites.json', 'w') as f:\n",
    "    json.dump(mm_json, f)"
   ]
  }
 ],
 "metadata": {
  "kernelspec": {
   "display_name": "f1_denv",
   "language": "python",
   "name": "f1_denv"
  },
  "language_info": {
   "codemirror_mode": {
    "name": "ipython",
    "version": 3
   },
   "file_extension": ".py",
   "mimetype": "text/x-python",
   "name": "python",
   "nbconvert_exporter": "python",
   "pygments_lexer": "ipython3",
   "version": "3.8.12"
  }
 },
 "nbformat": 4,
 "nbformat_minor": 5
}
