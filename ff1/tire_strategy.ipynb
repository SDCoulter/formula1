{
 "cells": [
  {
   "cell_type": "markdown",
   "id": "6e06777e-d3c5-4aa6-92df-518b64329f3a",
   "metadata": {},
   "source": [
    "## Tire Strategy Example"
   ]
  },
  {
   "cell_type": "code",
   "execution_count": 41,
   "id": "3d19cf37-f58e-433e-b018-af17f1ea4fd7",
   "metadata": {},
   "outputs": [],
   "source": [
    "import fastf1\n",
    "import fastf1.plotting\n",
    "from matplotlib import pyplot as plt\n",
    "import pandas as pd\n",
    "\n",
    "pd.set_option('display.max_rows', 150)\n",
    "pd.set_option('display.max_columns', 150)\n",
    "pd.set_option('max_colwidth', 400)"
   ]
  },
  {
   "cell_type": "code",
   "execution_count": 13,
   "id": "5cf36bcc-c07b-4f5d-8250-d3b88f7223cc",
   "metadata": {},
   "outputs": [
    {
     "name": "stderr",
     "output_type": "stream",
     "text": [
      "core           INFO \tLoading data for British Grand Prix - Race [v3.1.3]\n",
      "req            INFO \tNo cached data found for session_info. Loading data...\n",
      "_api           INFO \tFetching session info data...\n",
      "req            INFO \tData has been written to cache!\n",
      "req            INFO \tNo cached data found for driver_info. Loading data...\n",
      "_api           INFO \tFetching driver list...\n",
      "req            INFO \tData has been written to cache!\n",
      "req            INFO \tNo cached data found for session_status_data. Loading data...\n",
      "_api           INFO \tFetching session status data...\n",
      "req            INFO \tData has been written to cache!\n",
      "req            INFO \tNo cached data found for lap_count. Loading data...\n",
      "_api           INFO \tFetching lap count data...\n",
      "req            INFO \tData has been written to cache!\n",
      "req            INFO \tNo cached data found for track_status_data. Loading data...\n",
      "_api           INFO \tFetching track status data...\n",
      "req            INFO \tData has been written to cache!\n",
      "req            INFO \tNo cached data found for _extended_timing_data. Loading data...\n",
      "_api           INFO \tFetching timing data...\n",
      "_api           INFO \tParsing timing data...\n",
      "_api        WARNING \tDriver  1: Ignoring late data for a previously processed lap.The data may contain errors (previous: 39; current 40)\n",
      "req            INFO \tData has been written to cache!\n",
      "req            INFO \tNo cached data found for timing_app_data. Loading data...\n",
      "_api           INFO \tFetching timing app data...\n",
      "req            INFO \tData has been written to cache!\n",
      "core           INFO \tProcessing timing data...\n",
      "req            INFO \tNo cached data found for car_data. Loading data...\n",
      "_api           INFO \tFetching car data...\n",
      "_api           INFO \tParsing car data...\n",
      "req            INFO \tData has been written to cache!\n",
      "req            INFO \tNo cached data found for position_data. Loading data...\n",
      "_api           INFO \tFetching position data...\n",
      "_api           INFO \tParsing position data...\n",
      "_api        WARNING \tDriver 241: Position data is incomplete!\n",
      "_api        WARNING \tDriver 242: Position data is incomplete!\n",
      "_api        WARNING \tDriver 243: Position data is incomplete!\n",
      "req            INFO \tData has been written to cache!\n",
      "req            INFO \tNo cached data found for weather_data. Loading data...\n",
      "_api           INFO \tFetching weather data...\n",
      "req            INFO \tData has been written to cache!\n",
      "req            INFO \tNo cached data found for race_control_messages. Loading data...\n",
      "_api           INFO \tFetching race control messages...\n",
      "req            INFO \tData has been written to cache!\n",
      "core           INFO \tFinished loading data for 20 drivers: ['55', '11', '44', '16', '14', '4', '1', '47', '5', '20', '18', '6', '3', '22', '31', '10', '77', '63', '24', '23']\n"
     ]
    }
   ],
   "source": [
    "# Create a session to load data for.\n",
    "session = fastf1.get_session(2022, 'Silverstone', 'R')\n",
    "\n",
    "# Load the session data.\n",
    "session.load()"
   ]
  },
  {
   "cell_type": "code",
   "execution_count": 38,
   "id": "542322d1-1566-4ef0-ae89-bfc16484ef57",
   "metadata": {},
   "outputs": [],
   "source": [
    "# Get the laps completed by drivers.\n",
    "laps = session.laps"
   ]
  },
  {
   "cell_type": "code",
   "execution_count": 39,
   "id": "80aab0c6-a155-43f1-93bb-119195671722",
   "metadata": {},
   "outputs": [
    {
     "name": "stdout",
     "output_type": "stream",
     "text": [
      "['55', '11', '44', '16', '14', '4', '1', '47', '5', '20', '18', '6', '3', '22', '31', '10', '77', '63', '24', '23']\n"
     ]
    }
   ],
   "source": [
    "# List of driver numbers.\n",
    "print(session.drivers)"
   ]
  },
  {
   "cell_type": "code",
   "execution_count": 44,
   "id": "08c9686a-83aa-4078-8ae8-7487a754e541",
   "metadata": {},
   "outputs": [
    {
     "name": "stdout",
     "output_type": "stream",
     "text": [
      "['SAI', 'PER', 'HAM', 'LEC', 'ALO', 'NOR', 'VER', 'MSC', 'VET', 'MAG', 'STR', 'LAT', 'RIC', 'TSU', 'OCO', 'GAS', 'BOT', 'RUS', 'ZHO', 'ALB']\n"
     ]
    }
   ],
   "source": [
    "# You can pass the numbers into a function to produce their three letter code.\n",
    "driver_codes = [session.get_driver(driver)['Abbreviation'] for driver in session.drivers]\n",
    "print(driver_codes)"
   ]
  },
  {
   "cell_type": "code",
   "execution_count": 46,
   "id": "5508c198-f604-4eec-b09a-62da39284c91",
   "metadata": {},
   "outputs": [
    {
     "data": {
      "text/plain": [
       "Driver  Stint\n",
       "ALB     1.0        {SOFT}\n",
       "ALO     1.0      {MEDIUM}\n",
       "        2.0      {MEDIUM}\n",
       "        3.0        {HARD}\n",
       "        4.0        {SOFT}\n",
       "BOT     1.0      {MEDIUM}\n",
       "        2.0      {MEDIUM}\n",
       "GAS     1.0      {MEDIUM}\n",
       "        2.0        {SOFT}\n",
       "        3.0        {HARD}\n",
       "HAM     1.0      {MEDIUM}\n",
       "        2.0      {MEDIUM}\n",
       "        3.0        {HARD}\n",
       "        4.0        {SOFT}\n",
       "LAT     1.0        {SOFT}\n",
       "        2.0        {SOFT}\n",
       "        3.0      {MEDIUM}\n",
       "        4.0        {SOFT}\n",
       "LEC     1.0      {MEDIUM}\n",
       "        2.0      {MEDIUM}\n",
       "        3.0        {HARD}\n",
       "MAG     1.0        {SOFT}\n",
       "        2.0      {MEDIUM}\n",
       "        3.0      {MEDIUM}\n",
       "MSC     1.0      {MEDIUM}\n",
       "        2.0      {MEDIUM}\n",
       "        3.0        {HARD}\n",
       "        4.0        {SOFT}\n",
       "NOR     1.0      {MEDIUM}\n",
       "        2.0      {MEDIUM}\n",
       "        3.0        {HARD}\n",
       "        4.0        {SOFT}\n",
       "OCO     1.0      {MEDIUM}\n",
       "        2.0        {SOFT}\n",
       "        3.0        {HARD}\n",
       "PER     1.0      {MEDIUM}\n",
       "        2.0      {MEDIUM}\n",
       "        3.0      {MEDIUM}\n",
       "        4.0        {SOFT}\n",
       "RIC     1.0      {MEDIUM}\n",
       "        2.0      {MEDIUM}\n",
       "        3.0        {HARD}\n",
       "        4.0        {SOFT}\n",
       "        5.0        {SOFT}\n",
       "RUS     1.0        {HARD}\n",
       "SAI     1.0      {MEDIUM}\n",
       "        2.0      {MEDIUM}\n",
       "        3.0        {HARD}\n",
       "        4.0        {SOFT}\n",
       "STR     1.0      {MEDIUM}\n",
       "        2.0      {MEDIUM}\n",
       "        3.0        {HARD}\n",
       "        4.0      {MEDIUM}\n",
       "TSU     1.0      {MEDIUM}\n",
       "        2.0        {SOFT}\n",
       "        3.0        {HARD}\n",
       "        4.0        {SOFT}\n",
       "VER     1.0        {SOFT}\n",
       "        2.0      {MEDIUM}\n",
       "        3.0      {MEDIUM}\n",
       "        4.0        {HARD}\n",
       "        5.0        {SOFT}\n",
       "VET     1.0        {SOFT}\n",
       "        2.0        {SOFT}\n",
       "        3.0      {MEDIUM}\n",
       "        4.0      {MEDIUM}\n",
       "ZHO     1.0      {MEDIUM}\n",
       "Name: Compound, dtype: object"
      ]
     },
     "execution_count": 46,
     "metadata": {},
     "output_type": "execute_result"
    }
   ],
   "source": [
    "# Need to find the stint length and compound used for every stint by every driver.\n",
    "\n",
    "#laps.groupby(['Driver', 'Stint'])['Compound'].apply(set)\n",
    "\n",
    "df = laps[['Driver'],]"
   ]
  },
  {
   "cell_type": "code",
   "execution_count": null,
   "id": "86c26636-8f16-42b4-941e-804bb5affa65",
   "metadata": {},
   "outputs": [],
   "source": []
  },
  {
   "cell_type": "code",
   "execution_count": null,
   "id": "c56e403e-eb02-4f65-9dfe-c83d0fabff3c",
   "metadata": {},
   "outputs": [],
   "source": []
  },
  {
   "cell_type": "code",
   "execution_count": null,
   "id": "aed3fe13-7d17-4931-a609-59533cf7cd52",
   "metadata": {},
   "outputs": [],
   "source": []
  },
  {
   "cell_type": "code",
   "execution_count": null,
   "id": "3915c9b0-8d55-4b55-a2d1-f2884534e3c2",
   "metadata": {},
   "outputs": [],
   "source": [
    "\n",
    "\n",
    "\n",
    "\n",
    "###############################################################################\n",
    "# We need to find the stint length and compound used\n",
    "# for every stint by every driver.\n",
    "# We do this by first grouping the laps by the driver,\n",
    "# the stint number, and the compound.\n",
    "# And then counting the number of laps in each group.\n",
    "stints = laps[[\"Driver\", \"Stint\", \"Compound\", \"LapNumber\"]]\n",
    "stints = stints.groupby([\"Driver\", \"Stint\", \"Compound\"])\n",
    "stints = stints.count().reset_index()\n",
    "\n",
    "###############################################################################\n",
    "# The number in the LapNumber column now stands for the number of observations\n",
    "# in that group aka the stint length.\n",
    "stints = stints.rename(columns={\"LapNumber\": \"StintLength\"})\n",
    "print(stints)\n",
    "\n",
    "###############################################################################\n",
    "# Now we can plot the strategies for each driver\n",
    "fig, ax = plt.subplots(figsize=(5, 10))\n",
    "\n",
    "for driver in drivers:\n",
    "    driver_stints = stints.loc[stints[\"Driver\"] == driver]\n",
    "\n",
    "    previous_stint_end = 0\n",
    "    for idx, row in driver_stints.iterrows():\n",
    "        # each row contains the compound name and stint length\n",
    "        # we can use these information to draw horizontal bars\n",
    "        plt.barh(\n",
    "            y=driver,\n",
    "            width=row[\"StintLength\"],\n",
    "            left=previous_stint_end,\n",
    "            color=fastf1.plotting.COMPOUND_COLORS[row[\"Compound\"]],\n",
    "            edgecolor=\"black\",\n",
    "            fill=True\n",
    "        )\n",
    "\n",
    "        previous_stint_end += row[\"StintLength\"]\n",
    "\n",
    "# sphinx_gallery_defer_figures\n",
    "\n",
    "###############################################################################\n",
    "# Make the plot more readable and intuitive\n",
    "plt.title(\"2022 Hungarian Grand Prix Strategies\")\n",
    "plt.xlabel(\"Lap Number\")\n",
    "plt.grid(False)\n",
    "# invert the y-axis so drivers that finish higher are closer to the top\n",
    "ax.invert_yaxis()\n",
    "\n",
    "# sphinx_gallery_defer_figures\n",
    "\n",
    "###############################################################################\n",
    "# Plot aesthetics\n",
    "ax.spines['top'].set_visible(False)\n",
    "ax.spines['right'].set_visible(False)\n",
    "ax.spines['left'].set_visible(False)\n",
    "\n",
    "plt.tight_layout()\n",
    "plt.show()"
   ]
  },
  {
   "cell_type": "code",
   "execution_count": null,
   "id": "00dfdd80-d443-4d0e-9311-1a2bde8576ce",
   "metadata": {},
   "outputs": [],
   "source": []
  }
 ],
 "metadata": {
  "kernelspec": {
   "display_name": "Python 3 (ipykernel)",
   "language": "python",
   "name": "python3"
  },
  "language_info": {
   "codemirror_mode": {
    "name": "ipython",
    "version": 3
   },
   "file_extension": ".py",
   "mimetype": "text/x-python",
   "name": "python",
   "nbconvert_exporter": "python",
   "pygments_lexer": "ipython3",
   "version": "3.9.15"
  }
 },
 "nbformat": 4,
 "nbformat_minor": 5
}
